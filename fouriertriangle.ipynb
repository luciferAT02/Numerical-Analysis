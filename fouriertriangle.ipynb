import numpy as np
import matplotlib.pyplot as plt
from matplotlib.pyplot import cm
from matplotlib.patches import ConnectionPatch

#Class definition for fourier series

class Fourier():

    #Defining the object with default values
    def __init__(self,Circ,Cyc):
        self.Circ=Circ
        self.Cyc=Cyc

    #Defining the x coordinate of the center of the circle
    def x_cord_center(self,n,x):
        y=1
        if n>0:
            for i in range(1,n+1):
                b=((4/np.pi**2)*(np.cos((i*np.pi)/2)-1-i*(np.pi/2)*np.sin((i*np.pi)/2))
                y+=b*np.sin((i*np.pi*x)/2)
        return y

    #Defining the y coordinate of the center of the circle
    def y_cord_center(self,n,x):
        y=1
        if n>0:
            for i in range(1,n+1):
                b=((4/np.pi**2)*(np.cos((i*np.pi)/2)-1-i*(np.pi/2)*np.sin((i*np.pi)/2))
                y+=b*np.cos((i*np.pi*x)/2)
        return y

    #Defining the radius of the circle
    def rad(self,n):
        return 1+((4/np.pi**2)*(np.cos((n*np.pi)/2)-1-n*(np.pi/2)*np.sin((n*np.pi)/2))

    #Plottinf the curve
    def Plotting_it(self):
        time= np.linspace(0,self.Cyc,self.Cyc*50)         #Frames per second
        fig, ax=plt.subplots(nrows=1,ncols=2,figsize=(80,60))    #Defining the variable for plots
        fig.suptitle("Fourier Series for Square Waves",fontsize=45,fontweight='bold')    #Customizing the plot
        color=cm.rainbow(np.linspace(0,1,self.Circ))

        #Making simulation with time where t is the period
        for t in time:
            tht=2*np.pi*t
            ax[0].clear()      #Clearing the plot variable for new use
            if (t > 0):        #Works only when period>0
                con.remove()
            for i,c in zip(range(0,self.Circ),color):   #Assigns different colors to different circles (zipping up lists)
                xc=self.x_cord_center(i,tht)            #Each harmonics get added
                yc=self.y_cord_center(i,tht)
                R=self.rad(i)
                crl=plt.Circle((xc,yc),R,color=c,alpha=0.5,linewidth=2)  #Plots the circle
                ax[0].add_artist(crl)  #Adding to array ax[]

                if (i>0):
                    ax[0].plot([xco,xc],[yco,yc],color='b',linewidth=2)  #Plots the vector

                xco=xc
                yco=yc
                Ro=R
            #Axes Customization for Circle plot
            ax[0].axis('square')
            ax[0].set_xlim([-9/np.pi,9/np.pi])
            ax[0].set_ylim([-9 / np.pi, 9 / np.pi])
            #Continuing to plot the square wave generated from fourier series
            if (t>0):
                ax[1].plot([to,t],[ycirc,yc],color='m',linewidth=1.5)
            to = t
            ycirc = yc
            #Axes customization for Fourier plot
            ax[1].axis('square')
            ax[1].set_xlim([0,18/np.pi])
            ax[1].set_ylim([-9/np.pi,9/np.pi])

            #Connecting both the plots using a vector
            con=ConnectionPatch(xyA=(t,yc),xyB=(xc,yc),coordsA='data',coordsB='data',axesA=ax[1],axesB=ax[0],color='red')
            #Adding the Fourier plot after connecting with Circle plot
            ax[1].add_artist(con)
            #Pauses when time reaches 10^-11
            plt.pause(1e-11)

if __name__=='__main__':

    fs=Fourier(5,10)
    fs.Plotting_it()
